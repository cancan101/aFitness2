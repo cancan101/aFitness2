{
 "cells": [
  {
   "cell_type": "code",
   "execution_count": 1,
   "metadata": {
    "collapsed": true
   },
   "outputs": [],
   "source": [
    "import pandas as pd"
   ]
  },
  {
   "cell_type": "code",
   "execution_count": 2,
   "metadata": {
    "collapsed": true
   },
   "outputs": [],
   "source": [
    "SQL_CONN = 'sqlite:////Users/alex/Downloads/data'"
   ]
  },
  {
   "cell_type": "code",
   "execution_count": 3,
   "metadata": {
    "collapsed": true
   },
   "outputs": [],
   "source": [
    "# activities              exercises_musclegroups  workout_exercises     \n",
    "#                         exercises_muscles       workouts              \n",
    "# equipments              muscle_groups         \n",
    "# exercises               muscles"
   ]
  },
  {
   "cell_type": "code",
   "execution_count": 4,
   "metadata": {
    "collapsed": false
   },
   "outputs": [],
   "source": [
    "muscle_groups = pd.io.sql.read_sql_table('muscle_groups', SQL_CONN)"
   ]
  },
  {
   "cell_type": "code",
   "execution_count": 5,
   "metadata": {
    "collapsed": false
   },
   "outputs": [],
   "source": [
    "muscles = pd.io.sql.read_sql_table('muscles', SQL_CONN)"
   ]
  },
  {
   "cell_type": "code",
   "execution_count": 6,
   "metadata": {
    "collapsed": false
   },
   "outputs": [],
   "source": [
    "exercises = pd.io.sql.read_sql_table('exercises', SQL_CONN)"
   ]
  },
  {
   "cell_type": "code",
   "execution_count": 7,
   "metadata": {
    "collapsed": true
   },
   "outputs": [],
   "source": [
    "exercises_musclegroups = pd.io.sql.read_sql_table('exercises_musclegroups', SQL_CONN)"
   ]
  },
  {
   "cell_type": "code",
   "execution_count": 8,
   "metadata": {
    "collapsed": true
   },
   "outputs": [],
   "source": [
    "exercises_muscles = pd.io.sql.read_sql_table('exercises_muscles', SQL_CONN)"
   ]
  },
  {
   "cell_type": "code",
   "execution_count": 9,
   "metadata": {
    "collapsed": false
   },
   "outputs": [],
   "source": [
    "# pd.io.sql.read_sql_table('equipments', SQL_CONN)"
   ]
  },
  {
   "cell_type": "code",
   "execution_count": 10,
   "metadata": {
    "collapsed": false
   },
   "outputs": [],
   "source": [
    "activities = pd.io.sql.read_sql_table('activities', SQL_CONN)"
   ]
  },
  {
   "cell_type": "code",
   "execution_count": 11,
   "metadata": {
    "collapsed": false
   },
   "outputs": [],
   "source": [
    "workout_exercises = pd.io.sql.read_sql_table('workout_exercises', SQL_CONN)"
   ]
  },
  {
   "cell_type": "code",
   "execution_count": 12,
   "metadata": {
    "collapsed": false
   },
   "outputs": [],
   "source": [
    "workouts = pd.io.sql.read_sql_table('workouts', SQL_CONN)"
   ]
  },
  {
   "cell_type": "code",
   "execution_count": 13,
   "metadata": {
    "collapsed": false
   },
   "outputs": [],
   "source": [
    "muscle_groups_txt = \"\"\"const MUSCLE_GROUPS = [\n",
    "%s\n",
    "];\n",
    "\n",
    "export default MUSCLE_GROUPS;\n",
    "\"\"\" % ',\\n'.join([\"  {id: %d, name: '%s'}\" % (x._1, x.name) for x in muscle_groups.itertuples()])"
   ]
  },
  {
   "cell_type": "code",
   "execution_count": 14,
   "metadata": {
    "collapsed": false
   },
   "outputs": [],
   "source": [
    "with open('/Users/alex/git/aFitness2/constants/MuscleGroups.js', 'w') as fp:\n",
    "    print>>fp, muscle_groups_txt,"
   ]
  },
  {
   "cell_type": "code",
   "execution_count": 15,
   "metadata": {
    "collapsed": false
   },
   "outputs": [],
   "source": [
    "muscles_txt =\"\"\"const MUSCLES = [\n",
    "%s\n",
    "];\n",
    "\n",
    "export default MUSCLES;\n",
    "\"\"\" % ',\\n'.join([\"  {id: %d, name: '%s', muscleGroup: %d}\" % (x._1, x.name, x.musclegroup_id ) for x in muscles.itertuples()])"
   ]
  },
  {
   "cell_type": "code",
   "execution_count": 16,
   "metadata": {
    "collapsed": true
   },
   "outputs": [],
   "source": [
    "with open('/Users/alex/git/aFitness2/constants/Muscles.js', 'w') as fp:\n",
    "    print>>fp, muscles_txt,"
   ]
  },
  {
   "cell_type": "code",
   "execution_count": 17,
   "metadata": {
    "collapsed": false
   },
   "outputs": [],
   "source": [
    "import json"
   ]
  },
  {
   "cell_type": "code",
   "execution_count": 18,
   "metadata": {
    "collapsed": true
   },
   "outputs": [],
   "source": [
    "exercises_clean = exercises.drop(labels=['guid'], axis=1)"
   ]
  },
  {
   "cell_type": "code",
   "execution_count": 19,
   "metadata": {
    "collapsed": false
   },
   "outputs": [],
   "source": [
    "exercises_muscles_clean = exercises_muscles.drop(labels=['_id'], axis=1).set_index('exercise_id')\n",
    "exercises_muscles_clean = exercises_muscles_clean[exercises_muscles_clean.muscle_id != -1]"
   ]
  },
  {
   "cell_type": "code",
   "execution_count": 20,
   "metadata": {
    "collapsed": false
   },
   "outputs": [],
   "source": [
    "def get_exercises(x):\n",
    "    try:\n",
    "        entry = exercises_muscles_clean.ix[x]\n",
    "    except KeyError:\n",
    "        return []\n",
    "    if isinstance(entry, pd.DataFrame):\n",
    "        return entry.to_dict('records')\n",
    "    else:\n",
    "        return [entry.to_dict()]\n",
    "\n",
    "exercises_clean['muscles'] = exercises_clean._id.apply(get_exercises)"
   ]
  },
  {
   "cell_type": "code",
   "execution_count": 21,
   "metadata": {
    "collapsed": false
   },
   "outputs": [],
   "source": [
    "exercises_musclegroups_clean = exercises_musclegroups.drop(labels=['_id'], axis=1).set_index('exercise_id')\n",
    "exercises_musclegroups_clean = exercises_musclegroups_clean[exercises_musclegroups_clean.musclegroup_id != -1]"
   ]
  },
  {
   "cell_type": "code",
   "execution_count": 22,
   "metadata": {
    "collapsed": false
   },
   "outputs": [],
   "source": [
    "def get_mg(x):\n",
    "    try:\n",
    "        return [{'musclegroup_id': int(exercises_musclegroups_clean.ix[x])}]\n",
    "    except KeyError:\n",
    "        return []\n",
    "exercises_clean['muscle_groups'] = exercises_clean._id.apply(get_mg)"
   ]
  },
  {
   "cell_type": "code",
   "execution_count": 23,
   "metadata": {
    "collapsed": false
   },
   "outputs": [],
   "source": [
    "def do_require(image):\n",
    "    if image:\n",
    "        return 'xxxxx%syyyyy' % image"
   ]
  },
  {
   "cell_type": "code",
   "execution_count": 24,
   "metadata": {
    "collapsed": false,
    "scrolled": false
   },
   "outputs": [],
   "source": [
    "exercises_txt = json.dumps(\n",
    "    exercises_clean.rename(columns={'_id': 'id'}).to_dict(orient='records'), indent=2)"
   ]
  },
  {
   "cell_type": "code",
   "execution_count": 25,
   "metadata": {
    "collapsed": false,
    "scrolled": false
   },
   "outputs": [],
   "source": [
    "exercises_txt_fix = \"\"\"const EXERCISES = %s;\n",
    "\n",
    "export default EXERCISES;\n",
    "\"\"\" % '\\n'.join([a.rstrip() for a in exercises_txt.splitlines()])"
   ]
  },
  {
   "cell_type": "code",
   "execution_count": 26,
   "metadata": {
    "collapsed": true
   },
   "outputs": [],
   "source": [
    "with open('/Users/alex/git/aFitness2/constants/Exercises.js', 'w') as fp:\n",
    "    print>>fp, exercises_txt_fix,"
   ]
  },
  {
   "cell_type": "code",
   "execution_count": 27,
   "metadata": {
    "collapsed": true
   },
   "outputs": [],
   "source": [
    "images = pd.DataFrame({'image': exercises['image'][~exercises.image.isnull()].unique()})"
   ]
  },
  {
   "cell_type": "code",
   "execution_count": 28,
   "metadata": {
    "collapsed": false
   },
   "outputs": [],
   "source": [
    "images_df = images.set_index('image', drop=False)\n",
    "images_txt = json.dumps(\n",
    "    images_df.image.apply(do_require).to_dict(), indent=2)"
   ]
  },
  {
   "cell_type": "code",
   "execution_count": 29,
   "metadata": {
    "collapsed": false
   },
   "outputs": [],
   "source": [
    "images_txt_final = \"\"\"const IMAGES = %s;\n",
    "\n",
    "export default IMAGES;\n",
    "\"\"\" % '\\n'.join([a.rstrip() for a in images_txt.splitlines()]).replace('\"xxxxx', \"require('../img/\").replace('yyyyy\"', \"_t.jpg')\")"
   ]
  },
  {
   "cell_type": "code",
   "execution_count": 30,
   "metadata": {
    "collapsed": true
   },
   "outputs": [],
   "source": [
    "with open('/Users/alex/git/aFitness2/constants/Images.js', 'w') as fp:\n",
    "    print>>fp, images_txt_final,"
   ]
  }
 ],
 "metadata": {
  "kernelspec": {
   "display_name": "Python 2",
   "language": "python",
   "name": "python2"
  },
  "language_info": {
   "codemirror_mode": {
    "name": "ipython",
    "version": 2
   },
   "file_extension": ".py",
   "mimetype": "text/x-python",
   "name": "python",
   "nbconvert_exporter": "python",
   "pygments_lexer": "ipython2",
   "version": "2.7.9"
  }
 },
 "nbformat": 4,
 "nbformat_minor": 0
}
