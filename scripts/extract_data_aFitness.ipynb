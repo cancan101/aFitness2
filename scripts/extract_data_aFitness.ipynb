{
 "cells": [
  {
   "cell_type": "code",
   "execution_count": 1,
   "metadata": {
    "collapsed": true
   },
   "outputs": [],
   "source": [
    "import pandas as pd\n",
    "import numpy as np\n",
    "import xmltodict\n",
    "import requests\n",
    "import json\n",
    "from collections import OrderedDict"
   ]
  },
  {
   "cell_type": "code",
   "execution_count": 2,
   "metadata": {
    "collapsed": true
   },
   "outputs": [],
   "source": [
    "SQL_CONN = 'sqlite:////Users/alex/Downloads/data'"
   ]
  },
  {
   "cell_type": "code",
   "execution_count": 3,
   "metadata": {
    "collapsed": true
   },
   "outputs": [],
   "source": [
    "# activities              exercises_musclegroups  workout_exercises     \n",
    "#                         exercises_muscles       workouts              \n",
    "# equipments              muscle_groups         \n",
    "# exercises               muscles"
   ]
  },
  {
   "cell_type": "code",
   "execution_count": 4,
   "metadata": {
    "collapsed": false
   },
   "outputs": [],
   "source": [
    "muscle_groups = pd.io.sql.read_sql_table('muscle_groups', SQL_CONN)"
   ]
  },
  {
   "cell_type": "code",
   "execution_count": 5,
   "metadata": {
    "collapsed": false
   },
   "outputs": [],
   "source": [
    "muscles = pd.io.sql.read_sql_table('muscles', SQL_CONN)"
   ]
  },
  {
   "cell_type": "code",
   "execution_count": 6,
   "metadata": {
    "collapsed": false
   },
   "outputs": [],
   "source": [
    "exercises = pd.io.sql.read_sql_table('exercises', SQL_CONN)"
   ]
  },
  {
   "cell_type": "code",
   "execution_count": 7,
   "metadata": {
    "collapsed": true
   },
   "outputs": [],
   "source": [
    "exercises_musclegroups = pd.io.sql.read_sql_table('exercises_musclegroups', SQL_CONN)"
   ]
  },
  {
   "cell_type": "code",
   "execution_count": 8,
   "metadata": {
    "collapsed": true
   },
   "outputs": [],
   "source": [
    "exercises_muscles = pd.io.sql.read_sql_table('exercises_muscles', SQL_CONN)"
   ]
  },
  {
   "cell_type": "code",
   "execution_count": 9,
   "metadata": {
    "collapsed": false
   },
   "outputs": [],
   "source": [
    "# pd.io.sql.read_sql_table('equipments', SQL_CONN)"
   ]
  },
  {
   "cell_type": "code",
   "execution_count": 10,
   "metadata": {
    "collapsed": false
   },
   "outputs": [],
   "source": [
    "activities = pd.io.sql.read_sql_table('activities', SQL_CONN)"
   ]
  },
  {
   "cell_type": "code",
   "execution_count": 11,
   "metadata": {
    "collapsed": false
   },
   "outputs": [],
   "source": [
    "workout_exercises = pd.io.sql.read_sql_table('workout_exercises', SQL_CONN)"
   ]
  },
  {
   "cell_type": "code",
   "execution_count": 12,
   "metadata": {
    "collapsed": false
   },
   "outputs": [],
   "source": [
    "workouts = pd.io.sql.read_sql_table('workouts', SQL_CONN)"
   ]
  },
  {
   "cell_type": "code",
   "execution_count": 13,
   "metadata": {
    "collapsed": false
   },
   "outputs": [],
   "source": [
    "# muscle_groups_txt = \"\"\"const MUSCLE_GROUPS = [\n",
    "# %s\n",
    "# ];\n",
    "\n",
    "# export default MUSCLE_GROUPS;\n",
    "# \"\"\" % ',\\n'.join([\"  {id: %d, name: '%s'}\" % (x._1, x.name) for x in muscle_groups.itertuples()])"
   ]
  },
  {
   "cell_type": "code",
   "execution_count": 14,
   "metadata": {
    "collapsed": false
   },
   "outputs": [],
   "source": [
    "# with open('/Users/alex/git/aFitness2/constants/MuscleGroups.js', 'w') as fp:\n",
    "#     print>>fp, muscle_groups_txt,"
   ]
  },
  {
   "cell_type": "code",
   "execution_count": 15,
   "metadata": {
    "collapsed": false
   },
   "outputs": [],
   "source": [
    "# muscles_txt =\"\"\"const MUSCLES = [\n",
    "# %s\n",
    "# ];\n",
    "\n",
    "# export default MUSCLES;\n",
    "# \"\"\" % ',\\n'.join(['  {\"id\": %d, \"name\": \"%s\", \"muscleGroup\": %d}' % (x._1, x.name, x.musclegroup_id ) for x in muscles.itertuples()])"
   ]
  },
  {
   "cell_type": "code",
   "execution_count": 16,
   "metadata": {
    "collapsed": true
   },
   "outputs": [],
   "source": [
    "# with open('/Users/alex/git/aFitness2/constants/Muscles.js', 'w') as fp:\n",
    "#     print>>fp, muscles_txt,"
   ]
  },
  {
   "cell_type": "code",
   "execution_count": 17,
   "metadata": {
    "collapsed": false
   },
   "outputs": [],
   "source": [
    "import json"
   ]
  },
  {
   "cell_type": "code",
   "execution_count": 18,
   "metadata": {
    "collapsed": true
   },
   "outputs": [],
   "source": [
    "exercises_clean = exercises.drop(labels=['guid'], axis=1)"
   ]
  },
  {
   "cell_type": "code",
   "execution_count": 19,
   "metadata": {
    "collapsed": false
   },
   "outputs": [],
   "source": [
    "exercises_muscles_clean = exercises_muscles.drop(labels=['_id'], axis=1).set_index('exercise_id')\n",
    "exercises_muscles_clean = exercises_muscles_clean[exercises_muscles_clean.muscle_id != -1]"
   ]
  },
  {
   "cell_type": "code",
   "execution_count": 20,
   "metadata": {
    "collapsed": false
   },
   "outputs": [],
   "source": [
    "def get_exercises(x):\n",
    "    try:\n",
    "        entry = exercises_muscles_clean.ix[x]\n",
    "    except KeyError:\n",
    "        return []\n",
    "    if isinstance(entry, pd.DataFrame):\n",
    "        return entry.to_dict('records')\n",
    "    else:\n",
    "        return [entry.to_dict()]\n",
    "\n",
    "exercises_clean['muscles'] = exercises_clean._id.apply(get_exercises)"
   ]
  },
  {
   "cell_type": "code",
   "execution_count": 21,
   "metadata": {
    "collapsed": false
   },
   "outputs": [],
   "source": [
    "exercises_musclegroups_clean = exercises_musclegroups.drop(labels=['_id'], axis=1).set_index('exercise_id')\n",
    "exercises_musclegroups_clean = exercises_musclegroups_clean[exercises_musclegroups_clean.musclegroup_id != -1]"
   ]
  },
  {
   "cell_type": "code",
   "execution_count": 22,
   "metadata": {
    "collapsed": false
   },
   "outputs": [],
   "source": [
    "# def get_mg(x):\n",
    "#     try:\n",
    "#         return [{'musclegroup_id': int(exercises_musclegroups_clean.ix[x])}]\n",
    "#     except KeyError:\n",
    "#         return []\n",
    "# exercises_clean['muscle_groups'] = exercises_clean._id.apply(get_mg)"
   ]
  },
  {
   "cell_type": "code",
   "execution_count": 23,
   "metadata": {
    "collapsed": false
   },
   "outputs": [],
   "source": [
    "def do_require(image):\n",
    "    if image:\n",
    "        return 'xxxxx%syyyyy' % image"
   ]
  },
  {
   "cell_type": "code",
   "execution_count": 24,
   "metadata": {
    "collapsed": false
   },
   "outputs": [],
   "source": [
    "def clear_nans(x):\n",
    "    return dict((k,v) for k,v in x.iteritems() if (v == v) and v is not None)"
   ]
  },
  {
   "cell_type": "code",
   "execution_count": 25,
   "metadata": {
    "collapsed": true
   },
   "outputs": [],
   "source": [
    "def _get_sub(i):\n",
    "    new_item = dict(**i)\n",
    "    name = new_item.pop('@name')\n",
    "    return name, parse_item(new_item)\n",
    "\n",
    "def parse_item(item):\n",
    "    if isinstance(item, (OrderedDict, dict)):\n",
    "        if len(item) == 1 and '@name' in item:\n",
    "            return {item['@name']: {}}\n",
    "        else:\n",
    "            return dict((k, parse_item(v)) for k, v in item.iteritems())\n",
    "    elif isinstance(item, list):\n",
    "        return dict([_get_sub(i) for i in item])\n",
    "    else:\n",
    "        return item"
   ]
  },
  {
   "cell_type": "code",
   "execution_count": 26,
   "metadata": {
    "collapsed": true
   },
   "outputs": [],
   "source": [
    "xml_content = requests.get('https://raw.githubusercontent.com/cancan101/aFitness/master/app/src/main/res/xml/exercises.xml').content\n",
    "\n",
    "xml_data = xmltodict.parse(xml_content)\n",
    "xml_exercises = xml_data['Exercises']['Exercise']\n",
    "\n",
    "parsed = parse_item(xml_exercises)\n",
    "\n",
    "xml_load = pd.DataFrame.from_dict(parsed, orient='index').reset_index()"
   ]
  },
  {
   "cell_type": "code",
   "execution_count": 27,
   "metadata": {
    "collapsed": false
   },
   "outputs": [],
   "source": [
    "merged = exercises_clean.merge(xml_load, left_on='name', right_on='index', how='left')"
   ]
  },
  {
   "cell_type": "code",
   "execution_count": 28,
   "metadata": {
    "collapsed": true
   },
   "outputs": [],
   "source": [
    "images = pd.DataFrame({'image': exercises['image'][~exercises.image.isnull()].unique()})"
   ]
  },
  {
   "cell_type": "code",
   "execution_count": 29,
   "metadata": {
    "collapsed": false
   },
   "outputs": [],
   "source": [
    "images_df = images.set_index('image', drop=False)\n",
    "images_txt = json.dumps(\n",
    "    images_df.image.apply(do_require).to_dict(), indent=2)"
   ]
  },
  {
   "cell_type": "code",
   "execution_count": 30,
   "metadata": {
    "collapsed": false
   },
   "outputs": [],
   "source": [
    "images_txt_final = \"\"\"const IMAGES = %s;\n",
    "\n",
    "export default IMAGES;\n",
    "\"\"\" % '\\n'.join([a.rstrip() for a in images_txt.splitlines()]).replace('\"xxxxx', \"require('../img/\").replace('yyyyy\"', \"_t.jpg')\")"
   ]
  },
  {
   "cell_type": "code",
   "execution_count": 31,
   "metadata": {
    "collapsed": true
   },
   "outputs": [],
   "source": [
    "with open('/Users/alex/git/aFitness2/constants/Images.js', 'w') as fp:\n",
    "    print>>fp, images_txt_final,"
   ]
  },
  {
   "cell_type": "code",
   "execution_count": 32,
   "metadata": {
    "collapsed": false,
    "scrolled": false
   },
   "outputs": [],
   "source": [
    "merged_both = merged[~pd.isnull(merged['index'])]"
   ]
  },
  {
   "cell_type": "code",
   "execution_count": 33,
   "metadata": {
    "collapsed": false
   },
   "outputs": [],
   "source": [
    "def extract_muscle(x):\n",
    "    if x != x or x is None:\n",
    "        return []\n",
    "    else:\n",
    "        return x['Muscle'].keys()\n",
    "\n",
    "secondary_new = merged.SecondaryMuscles.apply(extract_muscle)\n",
    "primary_new = merged.MajorMuscles.apply(extract_muscle)"
   ]
  },
  {
   "cell_type": "code",
   "execution_count": 34,
   "metadata": {
    "collapsed": false
   },
   "outputs": [],
   "source": [
    "primaries_now = merged.muscles.apply(lambda y: [x for x in y if x['is_primary']==1])\n",
    "secondary_now = merged.muscles.apply(lambda y: [x for x in y if x['is_primary']!=1])"
   ]
  },
  {
   "cell_type": "code",
   "execution_count": 35,
   "metadata": {
    "collapsed": false
   },
   "outputs": [],
   "source": [
    "assert 0 == (merged_both.image_x != merged_both.image_y).sum()"
   ]
  },
  {
   "cell_type": "code",
   "execution_count": 36,
   "metadata": {
    "collapsed": false
   },
   "outputs": [],
   "source": [
    "assert 0 == ((primaries_now.apply(len) != primary_new.apply(len)) & (~pd.isnull(merged['index']))).sum()"
   ]
  },
  {
   "cell_type": "code",
   "execution_count": 37,
   "metadata": {
    "collapsed": false,
    "scrolled": false
   },
   "outputs": [
    {
     "data": {
      "text/plain": [
       "Series([], Name: MajorMuscles, dtype: object)"
      ]
     },
     "execution_count": 37,
     "metadata": {},
     "output_type": "execute_result"
    }
   ],
   "source": [
    "primaries_now_name = primaries_now.apply(lambda x: set(muscles.set_index('_id').ix[y['muscle_id'], 'name'] for y in x))\n",
    "primary_new[\n",
    "    (primaries_now_name.apply(lambda y: set(x.lower() for x in y)) != primary_new.apply(lambda x: set(y.lower() for y in x)))\n",
    "     & (~pd.isnull(merged['index']))\n",
    "]"
   ]
  },
  {
   "cell_type": "code",
   "execution_count": 38,
   "metadata": {
    "collapsed": false
   },
   "outputs": [
    {
     "data": {
      "text/plain": [
       "Series([], Name: SecondaryMuscles, dtype: object)"
      ]
     },
     "execution_count": 38,
     "metadata": {},
     "output_type": "execute_result"
    }
   ],
   "source": [
    "scondary_now_name = secondary_now.apply(lambda x: set(muscles.set_index('_id').ix[y['muscle_id'], 'name'] for y in x))\n",
    "secondary_new[\n",
    "    (scondary_now_name.apply(lambda y: set(x.lower() for x in y)) != secondary_new.apply(lambda x: set(y.lower() for y in x)))\n",
    "     & (~pd.isnull(merged['index']))\n",
    "]"
   ]
  },
  {
   "cell_type": "code",
   "execution_count": 39,
   "metadata": {
    "collapsed": false
   },
   "outputs": [],
   "source": [
    "assert 0 == (secondary_now.apply(len) != secondary_now.apply(len)).sum()"
   ]
  },
  {
   "cell_type": "code",
   "execution_count": 40,
   "metadata": {
    "collapsed": true
   },
   "outputs": [],
   "source": [
    "muscles_raw = xmltodict.parse(\n",
    "    requests.get(\n",
    "        'https://raw.githubusercontent.com/cancan101/aFitness/9917d0b5ebadd2d0e2e386c2426f74feae4b6ee1/app/src/main/assets/muscles.xml').content)"
   ]
  },
  {
   "cell_type": "code",
   "execution_count": 41,
   "metadata": {
    "collapsed": false
   },
   "outputs": [],
   "source": [
    "muscles_d = parse_item(muscles_raw)[\"MuscleGroups\"][\"MusclesGroup\"]\n",
    "muscles_d['Cardio'] = {\"Muscle\": {}}\n",
    "\n",
    "with open('/Users/alex/git/aFitness2/data/muscles.json', 'w') as fp:\n",
    "    print>>fp, '\\n'.join([s.rstrip() for s in json.dumps(muscles_d, indent=2).splitlines()],)"
   ]
  },
  {
   "cell_type": "code",
   "execution_count": 42,
   "metadata": {
    "collapsed": true
   },
   "outputs": [],
   "source": [
    "merged.SecondaryMuscles = merged.SecondaryMuscles.fillna(scondary_now_name.apply(\n",
    "        lambda x: np.nan if x != x or not x else {u'Muscle': {y: {} for y in x}}))\n",
    "merged.MajorMuscles = merged.MajorMuscles.fillna(primaries_now_name.apply(lambda x: {u'Muscle': {y: {} for y in x}}))\n",
    "\n",
    "exercises_clean_save = pd.concat([\n",
    "        merged[['description', 'difficulty', 'type', 'target1', 'target2', 'target3', 'SecondaryMuscles', 'MajorMuscles']],\n",
    "        exercises_clean], axis=1)\n",
    "\n",
    "exercises_txt = json.dumps(\n",
    "    [clear_nans(x) for x in exercises_clean_save.rename(columns={'_id': 'id'}).drop(labels=['muscles'], axis=1).to_dict(orient='records')],\n",
    "    indent=2, sort_keys=True)\n",
    "\n",
    "with open('/Users/alex/git/aFitness2/data/exercises.json', 'w') as fp:\n",
    "    print>>fp, '\\n'.join([a.rstrip() for a in exercises_txt.splitlines()]),"
   ]
  }
 ],
 "metadata": {
  "kernelspec": {
   "display_name": "Python 2",
   "language": "python",
   "name": "python2"
  },
  "language_info": {
   "codemirror_mode": {
    "name": "ipython",
    "version": 2
   },
   "file_extension": ".py",
   "mimetype": "text/x-python",
   "name": "python",
   "nbconvert_exporter": "python",
   "pygments_lexer": "ipython2",
   "version": "2.7.9"
  }
 },
 "nbformat": 4,
 "nbformat_minor": 0
}
